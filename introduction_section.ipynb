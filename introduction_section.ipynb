{
 "cells": [
  {
   "cell_type": "markdown",
   "metadata": {},
   "source": [
    "# 1. A description of the problem and a discussion of the background"
   ]
  },
  {
   "cell_type": "markdown",
   "metadata": {},
   "source": [
    "**Todo: Clearly define a problem or an idea of your choice, where you would need to leverage the Foursquare location data to solve or execute. Remember that data science problems always target an audience and are meant to help a group of stakeholders solve a problem, so make sure that you explicitly describe your audience and why they would care about your problem.**"
   ]
  },
  {
   "cell_type": "markdown",
   "metadata": {},
   "source": [
    "## Introduction/Business problem section\n",
    "My problem is given by an entrepreneur/stakeholder who owns chains of different restaurants (Italian Restaurants, Fast Food Restaurants, Japanese Restaurants, ..) in certain neighborhoods in Toronto and would like to open up new restaurant in other neighborhoods. The stakeholder wants to make sure that the restaurant has a high chance of success: For example, people should accept the restaurant type and there should be enough potential clients who would eat at the new restaurant. **Thus, the problem is to find types of restaurants that are preferred in certain neighborhoods. I want to solve this problem by finding a predictor that is able to distinguish between restaurant types that are desired/not desired in a certain neighborhood.** A neighborhood is in part characterized by the inhabitants/visitors and also the venues that are located in the area. Certain venues might attract other groups of people and this will also influence the restaurant types that people will visit.\n",
    "\n",
    "The Foursquare location data offers a variety of features to tackle this problem. The most important for this project are the following:\n",
    "- Venue data to characterize neighborhoods\n",
    "- Restaurant ratings (from venue data) to decide if a restaurant type is successful in a given neighborhood"
   ]
  }
 ],
 "metadata": {
  "kernelspec": {
   "display_name": "Python 3",
   "language": "python",
   "name": "python3"
  },
  "language_info": {
   "codemirror_mode": {
    "name": "ipython",
    "version": 3
   },
   "file_extension": ".py",
   "mimetype": "text/x-python",
   "name": "python",
   "nbconvert_exporter": "python",
   "pygments_lexer": "ipython3",
   "version": "3.7.1"
  }
 },
 "nbformat": 4,
 "nbformat_minor": 2
}
