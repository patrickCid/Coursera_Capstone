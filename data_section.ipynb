{
 "cells": [
  {
   "cell_type": "markdown",
   "metadata": {},
   "source": [
    "# 2. A description of the data and how it will be used to solve the problem\n",
    "Todo: Describe the data that you will be using to solve the problem or execute your idea. Remember that you will need to use the Foursquare location data to solve the problem or execute your idea. You can absolutely use other datasets in combination with the Foursquare location data. So make sure that you provide adequate explanation and discussion, with examples, of the data that you will be using, even if it is only Foursquare location data."
   ]
  },
  {
   "cell_type": "markdown",
   "metadata": {},
   "source": [
    "## Data section\n",
    "### I am going to make use of the following datasets:\n",
    "#### 1. The postalcode neighborhood data of Toronto as used in the capstone project.\n",
    "#### 2. The geospatial data as used in the capstone project.\n",
    "#### 3. The Foursquare location data, where I will use two search queries:\n",
    "  - https://api.foursquare.com/v2/venues/explore to get all nearby venues for a neighborhood\n",
    "  - https://api.foursquare.com/v2/venues/venueId to get the details (ratings) for certain restaurants\n",
    "    \n",
    "I will use datasets 1 and 2 to define a number of neighborhoods in central toronto. For each neighborhood, I will query foursquare location data (datset 3) to build a dataset of venues surrounding each neighborhood (query 1, defines xData/independent variables). Then, querying details for each restaurant in each neighborhood using foursquare, I will build a dataset of restaurant ratings (query 2, defines the yData/dependent variable). "
   ]
  },
  {
   "cell_type": "markdown",
   "metadata": {},
   "source": [
    "### The data will be used as follows to solve the problem:\n",
    "In simple words: I would like to use the venues surrounding a neighborhood (xData) as predictors for ratings of restaurant types (yData). For example, a fast food restaurant might have more visitors in an area with poor people (that can't afford pricy restaurants), while a japanese restaurant which is more expensive might run better in an area where rich people reside. I am assuming that this preference in restaurant type will have an influence on the restaurant rating: The higher the rating, the higher the acceptance of a restaurant type in a certain area. The stakeholder might use this data to predict if a restaurant type will have a higher chance of success in a certain neighborhood than in another.\n",
    "\n",
    "In more detail: First, the venues surrounding a neighborhood will be retrieved, one-hot encoded and the restaurant ratings for certain restaurant types will be queried. Average ratings for restaurant types over all neighborhoods will be computed. Also, for each neighborhood, the average rating of a restaurant type will be computed. If a restaurant rating is higher than the (global) average for a neighborhood, it is labeled as \"more successful than average restaurants of this type\" and if is lower or no ratings are available it is labeled as \"less successful\". For the last step, I will split my data into training/test datasets and apply machine learning to build a model that can predict the successfulness of a restaurant type for a list of venues surrounding an area."
   ]
  }
 ],
 "metadata": {
  "kernelspec": {
   "display_name": "Python 3",
   "language": "python",
   "name": "python3"
  },
  "language_info": {
   "codemirror_mode": {
    "name": "ipython",
    "version": 3
   },
   "file_extension": ".py",
   "mimetype": "text/x-python",
   "name": "python",
   "nbconvert_exporter": "python",
   "pygments_lexer": "ipython3",
   "version": "3.7.1"
  }
 },
 "nbformat": 4,
 "nbformat_minor": 2
}
